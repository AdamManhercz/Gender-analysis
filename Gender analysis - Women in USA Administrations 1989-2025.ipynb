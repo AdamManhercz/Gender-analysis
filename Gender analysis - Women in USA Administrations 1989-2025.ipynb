{
 "cells": [
  {
   "cell_type": "markdown",
   "id": "ceb22b72",
   "metadata": {
    "heading_collapsed": true
   },
   "source": [
    "# Import\n"
   ]
  },
  {
   "cell_type": "code",
   "execution_count": 1,
   "id": "fd85062c",
   "metadata": {
    "hidden": true
   },
   "outputs": [],
   "source": [
    "## importing the neccessary libraries \n",
    "## pandas - for creating dataframe for the collected data\n",
    "## requests - for sending http request to the webpage we want to scrape\n",
    "## bs4 - for parsing the chosen webpage\n",
    "## gender_guesser - for guessing genders among the names we extracted\n",
    "\n",
    "import pandas as pd\n",
    "import requests\n",
    "from bs4 import BeautifulSoup as bs\n",
    "import gender_guesser.detector as gender"
   ]
  },
  {
   "cell_type": "markdown",
   "id": "1a63b776",
   "metadata": {
    "heading_collapsed": true
   },
   "source": [
    "# URL list"
   ]
  },
  {
   "cell_type": "code",
   "execution_count": 3,
   "id": "4c94eaac",
   "metadata": {
    "hidden": true
   },
   "outputs": [],
   "source": [
    "## list of url's we are aiming to to parse - Timespan 1989-2025\n",
    "\n",
    "url_list = [\"https://en.wikipedia.org/wiki/Presidency_of_George_H._W._Bush\",\n",
    "           \"https://en.wikipedia.org/wiki/Presidency_of_Bill_Clinton\",\n",
    "           \"https://en.wikipedia.org/wiki/Presidency_of_George_W._Bush\",\n",
    "           \"https://en.wikipedia.org/wiki/Presidency_of_Barack_Obama\",\n",
    "           \"https://en.wikipedia.org/wiki/Presidency_of_Donald_Trump\",\n",
    "           \"https://en.wikipedia.org/wiki/Presidency_of_Joe_Biden\"]"
   ]
  },
  {
   "cell_type": "markdown",
   "id": "ce8f2f0e",
   "metadata": {
    "heading_collapsed": true
   },
   "source": [
    "# Scraping data"
   ]
  },
  {
   "cell_type": "code",
   "execution_count": 4,
   "id": "c699513a",
   "metadata": {
    "hidden": true
   },
   "outputs": [],
   "source": [
    "## setting up gender_guesser\n",
    "d = gender.Detector()\n",
    "\n",
    "gov_list = []\n",
    "\n",
    "def gov_gender(url):\n",
    "    ## sending request for parsing\n",
    "    r = requests.get(url)\n",
    "\n",
    "    ## using bs4 to be able to parse the webpage code\n",
    "    soup = bs(r.content, \"html.parser\")\n",
    "    \n",
    "    ## assigning the proper code snippets to collect the data we look for\n",
    "    table = soup.find(\"table\", class_=\"infobox\", style=\"width:auto;text-align:left;line-height:1.2em;margin-left:1em; margin-right:0; float:right; clear:right;\")\n",
    "\n",
    "    rows = table.findAll(\"tr\")\n",
    "    \n",
    "    \n",
    "    df = pd.DataFrame({})\n",
    "    \n",
    "    ## finding the precise part(names) what we need and shaping them to useful data(only first names) \n",
    "    ## creating our column name and putting the first names into the column\n",
    "    col_name = rows[1].findAll(\"th\")[1].get_text(\" \", strip=True)    \n",
    "    \n",
    "    names = [r.th.get_text(\" \", strip=True) for r in rows if r.th!= None][2:]\n",
    "    first_names = [n.split(\" \")[0] for n in names]\n",
    "    \n",
    "    df[col_name] = first_names\n",
    "    \n",
    "    ## guessing the genders among the collected first names and putting them into our df\n",
    "    genders = [d.get_gender(name) for name in first_names]\n",
    "    df[\"Genders\"] = genders\n",
    "    \n",
    "    gov_list.append(df)\n",
    "    \n",
    "    return df"
   ]
  },
  {
   "cell_type": "code",
   "execution_count": 5,
   "id": "8cf6a243",
   "metadata": {
    "hidden": true
   },
   "outputs": [],
   "source": [
    "## competely the same method with one tiny adjustment\n",
    "\n",
    "def gov_gender_p(url):\n",
    "    \n",
    "    r = requests.get(url)\n",
    "\n",
    "    soup = bs(r.content, \"html.parser\")\n",
    "    table = soup.find(\"table\", class_=\"infobox\", style=\"width:auto;text-align:left;line-height:1.2em;margin-left:1em; margin-right:0; float:right; clear:right;\")\n",
    "\n",
    "    rows = table.findAll(\"tr\")\n",
    "    \n",
    "    df = pd.DataFrame({})\n",
    "    \n",
    "    ## the structure of the parsed parts of the webpages are different a bit - used rows[2].findAll() instead of rows[1].findAll()\n",
    "    col_name = rows[2].findAll(\"th\")[1].get_text(\" \", strip=True)  \n",
    "    \n",
    "    names = [r.th.get_text(\" \", strip=True) for r in rows if r.th!= None][2:]\n",
    "    surnames = [n.split(\" \")[0] for n in names]\n",
    "    df[col_name] = surnames\n",
    "        \n",
    "    genders = [d.get_gender(name) for name in surnames]\n",
    "    df[\"Genders\"] = genders\n",
    "    \n",
    "    gov_list.append(df)\n",
    "    \n",
    "    return df"
   ]
  },
  {
   "cell_type": "code",
   "execution_count": 6,
   "id": "331fe7f5",
   "metadata": {
    "hidden": true
   },
   "outputs": [],
   "source": [
    "## creating our dataframes\n",
    "\n",
    "for i, url in enumerate(url_list):\n",
    "    \n",
    "    if i == 3 or i == 5:\n",
    "        gov_gender_p(url)\n",
    "    \n",
    "    else:\n",
    "        gov_gender(url)"
   ]
  },
  {
   "cell_type": "markdown",
   "id": "0c5f89fc",
   "metadata": {
    "heading_collapsed": true
   },
   "source": [
    "# Women in USA Administrations 1989-2025 "
   ]
  },
  {
   "cell_type": "markdown",
   "id": "4d96ec0e",
   "metadata": {
    "hidden": true
   },
   "source": [
    "Using the prior created dataframes to get our answers we looked for - Women in USA Administrations 1989-2025."
   ]
  },
  {
   "cell_type": "code",
   "execution_count": 7,
   "id": "fd94ccc4",
   "metadata": {
    "hidden": true
   },
   "outputs": [],
   "source": [
    "gdf = pd.DataFrame({}) \n",
    "time_span = []\n",
    "gender_nums = []\n",
    "gov_num = []\n",
    "sum_w = []\n",
    "start = 1989\n",
    "end = 1993\n",
    "\n",
    "for i, df in enumerate(gov_list):\n",
    "    sum_female = (df[\"Genders\"] == \"female\").sum()\n",
    "    prop = \"{:.0%}\".format(sum_female / len(df))\n",
    "    gov_len = len(df)\n",
    "    idoszak = str(start)+\"-\"+ str(end)\n",
    "    \n",
    "    time_span.append(idoszak)\n",
    "    gender_nums.append(prop)\n",
    "    gov_num.append(gov_len)\n",
    "    sum_w.append(sum_female)\n",
    "    \n",
    "    if i == 0:\n",
    "        start += 4\n",
    "        end += 8\n",
    "    elif i == 1 or i == 2:\n",
    "        start += 8\n",
    "        end += 8\n",
    "    elif i == 3:\n",
    "        start += 8\n",
    "        end += 4\n",
    "    else:\n",
    "        start += 4\n",
    "        end += 4\n",
    "    \n",
    "gdf[\"Term\"] = time_span   \n",
    "gdf[\"Women proportion\"] = gender_nums  \n",
    "gdf[\"Cabinet size\"] = gov_num\n",
    "gdf[\"Number of women\"] = sum_w"
   ]
  },
  {
   "cell_type": "code",
   "execution_count": 8,
   "id": "f30645bb",
   "metadata": {
    "hidden": true
   },
   "outputs": [
    {
     "data": {
      "text/html": [
       "<div>\n",
       "<style scoped>\n",
       "    .dataframe tbody tr th:only-of-type {\n",
       "        vertical-align: middle;\n",
       "    }\n",
       "\n",
       "    .dataframe tbody tr th {\n",
       "        vertical-align: top;\n",
       "    }\n",
       "\n",
       "    .dataframe thead th {\n",
       "        text-align: right;\n",
       "    }\n",
       "</style>\n",
       "<table border=\"1\" class=\"dataframe\">\n",
       "  <thead>\n",
       "    <tr style=\"text-align: right;\">\n",
       "      <th></th>\n",
       "      <th>Term</th>\n",
       "      <th>Women proportion</th>\n",
       "      <th>Cabinet size</th>\n",
       "      <th>Number of women</th>\n",
       "    </tr>\n",
       "  </thead>\n",
       "  <tbody>\n",
       "    <tr>\n",
       "      <th>0</th>\n",
       "      <td>1989-1993</td>\n",
       "      <td>11%</td>\n",
       "      <td>27</td>\n",
       "      <td>3</td>\n",
       "    </tr>\n",
       "    <tr>\n",
       "      <th>1</th>\n",
       "      <td>1993-2001</td>\n",
       "      <td>17%</td>\n",
       "      <td>59</td>\n",
       "      <td>10</td>\n",
       "    </tr>\n",
       "    <tr>\n",
       "      <th>2</th>\n",
       "      <td>2001-2009</td>\n",
       "      <td>10%</td>\n",
       "      <td>49</td>\n",
       "      <td>5</td>\n",
       "    </tr>\n",
       "    <tr>\n",
       "      <th>3</th>\n",
       "      <td>2009-2017</td>\n",
       "      <td>30%</td>\n",
       "      <td>54</td>\n",
       "      <td>16</td>\n",
       "    </tr>\n",
       "    <tr>\n",
       "      <th>4</th>\n",
       "      <td>2017-2021</td>\n",
       "      <td>14%</td>\n",
       "      <td>43</td>\n",
       "      <td>6</td>\n",
       "    </tr>\n",
       "    <tr>\n",
       "      <th>5</th>\n",
       "      <td>2021-2025</td>\n",
       "      <td>42%</td>\n",
       "      <td>26</td>\n",
       "      <td>11</td>\n",
       "    </tr>\n",
       "  </tbody>\n",
       "</table>\n",
       "</div>"
      ],
      "text/plain": [
       "        Term Women proportion  Cabinet size  Number of women\n",
       "0  1989-1993              11%            27                3\n",
       "1  1993-2001              17%            59               10\n",
       "2  2001-2009              10%            49                5\n",
       "3  2009-2017              30%            54               16\n",
       "4  2017-2021              14%            43                6\n",
       "5  2021-2025              42%            26               11"
      ]
     },
     "execution_count": 8,
     "metadata": {},
     "output_type": "execute_result"
    }
   ],
   "source": [
    "gdf"
   ]
  }
 ],
 "metadata": {
  "kernelspec": {
   "display_name": "Python 3",
   "language": "python",
   "name": "python3"
  },
  "language_info": {
   "codemirror_mode": {
    "name": "ipython",
    "version": 3
   },
   "file_extension": ".py",
   "mimetype": "text/x-python",
   "name": "python",
   "nbconvert_exporter": "python",
   "pygments_lexer": "ipython3",
   "version": "3.8.8"
  },
  "toc": {
   "base_numbering": 1,
   "nav_menu": {},
   "number_sections": true,
   "sideBar": true,
   "skip_h1_title": false,
   "title_cell": "Table of Contents",
   "title_sidebar": "Contents",
   "toc_cell": false,
   "toc_position": {},
   "toc_section_display": true,
   "toc_window_display": true
  }
 },
 "nbformat": 4,
 "nbformat_minor": 5
}
